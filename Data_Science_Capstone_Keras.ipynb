{
 "cells": [
  {
   "metadata": {},
   "cell_type": "code",
   "source": [
    "import pandas as pd\n",
    "from sklearn import preprocessing\n",
    "from sklearn.model_selection import train_test_split\n",
    "from keras import Sequential\n",
    "from keras.layers import Dense"
   ],
   "execution_count": 1,
   "outputs": [
    {
     "output_type": "stream",
     "text": "Using TensorFlow backend.\n",
     "name": "stderr"
    }
   ]
  },
  {
   "metadata": {},
   "cell_type": "code",
   "source": [
    "import types\n",
    "from botocore.client import Config\n",
    "import ibm_boto3\n",
    "\n",
    "def __iter__(self): return 0\n",
    "\n",
    "# @hidden_cell\n",
    "# The following code contains the credentials for a file in your IBM Cloud Object Storage.\n",
    "# You might want to remove those credentials before you share your notebook.\n",
    "credentials = {\n",
    "    'IAM_SERVICE_ID': '*****',\n",
    "    'IBM_API_KEY_ID': '****',\n",
    "    'ENDPOINT': '****',\n",
    "    'IBM_AUTH_ENDPOINT': '***',\n",
    "    'BUCKET': '****',\n",
    "    'FILE': 'transactions_table.csv'\n",
    "}\n",
    "\n",
    "client_don = ibm_boto3.client(service_name='s3',\n",
    "    ibm_api_key_id=credentials['IBM_API_KEY_ID'],\n",
    "    ibm_auth_endpoint=credentials['IBM_AUTH_ENDPOINT'],\n",
    "    config=Config(signature_version='oauth'),\n",
    "    endpoint_url=credentials['ENDPOINT'])\n",
    "\n",
    "client_don.download_file(Bucket=credentials['BUCKET'],Key='kin_security.parquet.gzip',Filename='kin_security.parquet.gzip')"
   ],
   "execution_count": 2,
   "outputs": []
  },
  {
   "metadata": {},
   "cell_type": "markdown",
   "source": "# Data understanding & Data Preparation"
  },
  {
   "metadata": {},
   "cell_type": "code",
   "source": "df = pd.read_parquet('kin_security.parquet.gzip')",
   "execution_count": 3,
   "outputs": [
    {
     "output_type": "stream",
     "text": "/opt/conda/envs/Python36/lib/python3.6/site-packages/pyarrow/pandas_compat.py:708: FutureWarning: .labels was deprecated in version 0.24.0. Use .codes instead.\n  labels = getattr(columns, 'labels', None) or [\n/opt/conda/envs/Python36/lib/python3.6/site-packages/pyarrow/pandas_compat.py:735: FutureWarning: the 'labels' keyword is deprecated, use 'codes' instead\n  return pd.MultiIndex(levels=new_levels, labels=labels, names=columns.names)\n/opt/conda/envs/Python36/lib/python3.6/site-packages/pyarrow/pandas_compat.py:752: FutureWarning: .labels was deprecated in version 0.24.0. Use .codes instead.\n  labels, = index.labels\n",
     "name": "stderr"
    }
   ]
  },
  {
   "metadata": {},
   "cell_type": "code",
   "source": "df.head()",
   "execution_count": 4,
   "outputs": [
    {
     "output_type": "execute_result",
     "execution_count": 4,
     "data": {
      "text/plain": "   CustomerId Geography  Gender  HasCrCard  IsActiveMember  EstimatedSalary  \\\n0    15610711   Germany  Female          0               0        167673.37   \n1    15764170   Germany    Male          1               0         36579.53   \n2    15706552    France    Male          0               1        156731.91   \n3    15785358   Germany    Male          1               1         79366.98   \n4    15594084    France    Male          1               0         74405.34   \n\n  application_date  exit_date birth_date  years_company  age  balance_bank  \\\n0       2017-03-05 2019-11-27 1976-10-21       2.737907   40  1.286445e+05   \n1       2017-02-05 2018-10-11 1972-04-02       2.814568   44  9.396035e+04   \n2       2016-02-15 2019-10-02 1979-09-09       3.789263   36  8.531170e+04   \n3       2016-09-17 2016-12-20 1969-11-11       3.200613   46  1.069690e+05   \n4       2016-03-17 2019-09-07 1993-06-08       3.704388   22  4.547474e-13   \n\n   Products       Score  Desertion  \n0         1  644.500000          0  \n1         1  672.666667          1  \n2         1  624.666667          0  \n3         1  742.166667          1  \n4         2  609.166667          0  ",
      "text/html": "<div>\n<style scoped>\n    .dataframe tbody tr th:only-of-type {\n        vertical-align: middle;\n    }\n\n    .dataframe tbody tr th {\n        vertical-align: top;\n    }\n\n    .dataframe thead th {\n        text-align: right;\n    }\n</style>\n<table border=\"1\" class=\"dataframe\">\n  <thead>\n    <tr style=\"text-align: right;\">\n      <th></th>\n      <th>CustomerId</th>\n      <th>Geography</th>\n      <th>Gender</th>\n      <th>HasCrCard</th>\n      <th>IsActiveMember</th>\n      <th>EstimatedSalary</th>\n      <th>application_date</th>\n      <th>exit_date</th>\n      <th>birth_date</th>\n      <th>years_company</th>\n      <th>age</th>\n      <th>balance_bank</th>\n      <th>Products</th>\n      <th>Score</th>\n      <th>Desertion</th>\n    </tr>\n  </thead>\n  <tbody>\n    <tr>\n      <th>0</th>\n      <td>15610711</td>\n      <td>Germany</td>\n      <td>Female</td>\n      <td>0</td>\n      <td>0</td>\n      <td>167673.37</td>\n      <td>2017-03-05</td>\n      <td>2019-11-27</td>\n      <td>1976-10-21</td>\n      <td>2.737907</td>\n      <td>40</td>\n      <td>1.286445e+05</td>\n      <td>1</td>\n      <td>644.500000</td>\n      <td>0</td>\n    </tr>\n    <tr>\n      <th>1</th>\n      <td>15764170</td>\n      <td>Germany</td>\n      <td>Male</td>\n      <td>1</td>\n      <td>0</td>\n      <td>36579.53</td>\n      <td>2017-02-05</td>\n      <td>2018-10-11</td>\n      <td>1972-04-02</td>\n      <td>2.814568</td>\n      <td>44</td>\n      <td>9.396035e+04</td>\n      <td>1</td>\n      <td>672.666667</td>\n      <td>1</td>\n    </tr>\n    <tr>\n      <th>2</th>\n      <td>15706552</td>\n      <td>France</td>\n      <td>Male</td>\n      <td>0</td>\n      <td>1</td>\n      <td>156731.91</td>\n      <td>2016-02-15</td>\n      <td>2019-10-02</td>\n      <td>1979-09-09</td>\n      <td>3.789263</td>\n      <td>36</td>\n      <td>8.531170e+04</td>\n      <td>1</td>\n      <td>624.666667</td>\n      <td>0</td>\n    </tr>\n    <tr>\n      <th>3</th>\n      <td>15785358</td>\n      <td>Germany</td>\n      <td>Male</td>\n      <td>1</td>\n      <td>1</td>\n      <td>79366.98</td>\n      <td>2016-09-17</td>\n      <td>2016-12-20</td>\n      <td>1969-11-11</td>\n      <td>3.200613</td>\n      <td>46</td>\n      <td>1.069690e+05</td>\n      <td>1</td>\n      <td>742.166667</td>\n      <td>1</td>\n    </tr>\n    <tr>\n      <th>4</th>\n      <td>15594084</td>\n      <td>France</td>\n      <td>Male</td>\n      <td>1</td>\n      <td>0</td>\n      <td>74405.34</td>\n      <td>2016-03-17</td>\n      <td>2019-09-07</td>\n      <td>1993-06-08</td>\n      <td>3.704388</td>\n      <td>22</td>\n      <td>4.547474e-13</td>\n      <td>2</td>\n      <td>609.166667</td>\n      <td>0</td>\n    </tr>\n  </tbody>\n</table>\n</div>"
     },
     "metadata": {}
    }
   ]
  },
  {
   "metadata": {},
   "cell_type": "markdown",
   "source": "We need to transform the categorial data to numerical"
  },
  {
   "metadata": {},
   "cell_type": "code",
   "source": "# Get dummy variable for Gender column\ndf_gender_dummy = pd.get_dummies(df[\"Gender\"])\ndf = pd.concat([df_gender_dummy, df], axis=1)\ndf.drop(\"Gender\", axis = 1, inplace=True)",
   "execution_count": 5,
   "outputs": []
  },
  {
   "metadata": {},
   "cell_type": "code",
   "source": "df.head()",
   "execution_count": 6,
   "outputs": [
    {
     "output_type": "execute_result",
     "execution_count": 6,
     "data": {
      "text/plain": "   Female  Male  CustomerId Geography  HasCrCard  IsActiveMember  \\\n0       1     0    15610711   Germany          0               0   \n1       0     1    15764170   Germany          1               0   \n2       0     1    15706552    France          0               1   \n3       0     1    15785358   Germany          1               1   \n4       0     1    15594084    France          1               0   \n\n   EstimatedSalary application_date  exit_date birth_date  years_company  age  \\\n0        167673.37       2017-03-05 2019-11-27 1976-10-21       2.737907   40   \n1         36579.53       2017-02-05 2018-10-11 1972-04-02       2.814568   44   \n2        156731.91       2016-02-15 2019-10-02 1979-09-09       3.789263   36   \n3         79366.98       2016-09-17 2016-12-20 1969-11-11       3.200613   46   \n4         74405.34       2016-03-17 2019-09-07 1993-06-08       3.704388   22   \n\n   balance_bank  Products       Score  Desertion  \n0  1.286445e+05         1  644.500000          0  \n1  9.396035e+04         1  672.666667          1  \n2  8.531170e+04         1  624.666667          0  \n3  1.069690e+05         1  742.166667          1  \n4  4.547474e-13         2  609.166667          0  ",
      "text/html": "<div>\n<style scoped>\n    .dataframe tbody tr th:only-of-type {\n        vertical-align: middle;\n    }\n\n    .dataframe tbody tr th {\n        vertical-align: top;\n    }\n\n    .dataframe thead th {\n        text-align: right;\n    }\n</style>\n<table border=\"1\" class=\"dataframe\">\n  <thead>\n    <tr style=\"text-align: right;\">\n      <th></th>\n      <th>Female</th>\n      <th>Male</th>\n      <th>CustomerId</th>\n      <th>Geography</th>\n      <th>HasCrCard</th>\n      <th>IsActiveMember</th>\n      <th>EstimatedSalary</th>\n      <th>application_date</th>\n      <th>exit_date</th>\n      <th>birth_date</th>\n      <th>years_company</th>\n      <th>age</th>\n      <th>balance_bank</th>\n      <th>Products</th>\n      <th>Score</th>\n      <th>Desertion</th>\n    </tr>\n  </thead>\n  <tbody>\n    <tr>\n      <th>0</th>\n      <td>1</td>\n      <td>0</td>\n      <td>15610711</td>\n      <td>Germany</td>\n      <td>0</td>\n      <td>0</td>\n      <td>167673.37</td>\n      <td>2017-03-05</td>\n      <td>2019-11-27</td>\n      <td>1976-10-21</td>\n      <td>2.737907</td>\n      <td>40</td>\n      <td>1.286445e+05</td>\n      <td>1</td>\n      <td>644.500000</td>\n      <td>0</td>\n    </tr>\n    <tr>\n      <th>1</th>\n      <td>0</td>\n      <td>1</td>\n      <td>15764170</td>\n      <td>Germany</td>\n      <td>1</td>\n      <td>0</td>\n      <td>36579.53</td>\n      <td>2017-02-05</td>\n      <td>2018-10-11</td>\n      <td>1972-04-02</td>\n      <td>2.814568</td>\n      <td>44</td>\n      <td>9.396035e+04</td>\n      <td>1</td>\n      <td>672.666667</td>\n      <td>1</td>\n    </tr>\n    <tr>\n      <th>2</th>\n      <td>0</td>\n      <td>1</td>\n      <td>15706552</td>\n      <td>France</td>\n      <td>0</td>\n      <td>1</td>\n      <td>156731.91</td>\n      <td>2016-02-15</td>\n      <td>2019-10-02</td>\n      <td>1979-09-09</td>\n      <td>3.789263</td>\n      <td>36</td>\n      <td>8.531170e+04</td>\n      <td>1</td>\n      <td>624.666667</td>\n      <td>0</td>\n    </tr>\n    <tr>\n      <th>3</th>\n      <td>0</td>\n      <td>1</td>\n      <td>15785358</td>\n      <td>Germany</td>\n      <td>1</td>\n      <td>1</td>\n      <td>79366.98</td>\n      <td>2016-09-17</td>\n      <td>2016-12-20</td>\n      <td>1969-11-11</td>\n      <td>3.200613</td>\n      <td>46</td>\n      <td>1.069690e+05</td>\n      <td>1</td>\n      <td>742.166667</td>\n      <td>1</td>\n    </tr>\n    <tr>\n      <th>4</th>\n      <td>0</td>\n      <td>1</td>\n      <td>15594084</td>\n      <td>France</td>\n      <td>1</td>\n      <td>0</td>\n      <td>74405.34</td>\n      <td>2016-03-17</td>\n      <td>2019-09-07</td>\n      <td>1993-06-08</td>\n      <td>3.704388</td>\n      <td>22</td>\n      <td>4.547474e-13</td>\n      <td>2</td>\n      <td>609.166667</td>\n      <td>0</td>\n    </tr>\n  </tbody>\n</table>\n</div>"
     },
     "metadata": {}
    }
   ]
  },
  {
   "metadata": {},
   "cell_type": "markdown",
   "source": "# Modeling & Evaluation"
  },
  {
   "metadata": {},
   "cell_type": "markdown",
   "source": "Select the feactures and label"
  },
  {
   "metadata": {},
   "cell_type": "code",
   "source": "y = df['Desertion'].values\ny",
   "execution_count": 7,
   "outputs": [
    {
     "output_type": "execute_result",
     "execution_count": 7,
     "data": {
      "text/plain": "array([0, 1, 0, ..., 1, 0, 0])"
     },
     "metadata": {}
    }
   ]
  },
  {
   "metadata": {},
   "cell_type": "code",
   "source": "X = df[['HasCrCard','IsActiveMember','EstimatedSalary','age','balance_bank','Products','Score','Female','Male']]\nX.head()",
   "execution_count": 8,
   "outputs": [
    {
     "output_type": "execute_result",
     "execution_count": 8,
     "data": {
      "text/plain": "   HasCrCard  IsActiveMember  EstimatedSalary  age  balance_bank  Products  \\\n0          0               0        167673.37   40  1.286445e+05         1   \n1          1               0         36579.53   44  9.396035e+04         1   \n2          0               1        156731.91   36  8.531170e+04         1   \n3          1               1         79366.98   46  1.069690e+05         1   \n4          1               0         74405.34   22  4.547474e-13         2   \n\n        Score  Female  Male  \n0  644.500000       1     0  \n1  672.666667       0     1  \n2  624.666667       0     1  \n3  742.166667       0     1  \n4  609.166667       0     1  ",
      "text/html": "<div>\n<style scoped>\n    .dataframe tbody tr th:only-of-type {\n        vertical-align: middle;\n    }\n\n    .dataframe tbody tr th {\n        vertical-align: top;\n    }\n\n    .dataframe thead th {\n        text-align: right;\n    }\n</style>\n<table border=\"1\" class=\"dataframe\">\n  <thead>\n    <tr style=\"text-align: right;\">\n      <th></th>\n      <th>HasCrCard</th>\n      <th>IsActiveMember</th>\n      <th>EstimatedSalary</th>\n      <th>age</th>\n      <th>balance_bank</th>\n      <th>Products</th>\n      <th>Score</th>\n      <th>Female</th>\n      <th>Male</th>\n    </tr>\n  </thead>\n  <tbody>\n    <tr>\n      <th>0</th>\n      <td>0</td>\n      <td>0</td>\n      <td>167673.37</td>\n      <td>40</td>\n      <td>1.286445e+05</td>\n      <td>1</td>\n      <td>644.500000</td>\n      <td>1</td>\n      <td>0</td>\n    </tr>\n    <tr>\n      <th>1</th>\n      <td>1</td>\n      <td>0</td>\n      <td>36579.53</td>\n      <td>44</td>\n      <td>9.396035e+04</td>\n      <td>1</td>\n      <td>672.666667</td>\n      <td>0</td>\n      <td>1</td>\n    </tr>\n    <tr>\n      <th>2</th>\n      <td>0</td>\n      <td>1</td>\n      <td>156731.91</td>\n      <td>36</td>\n      <td>8.531170e+04</td>\n      <td>1</td>\n      <td>624.666667</td>\n      <td>0</td>\n      <td>1</td>\n    </tr>\n    <tr>\n      <th>3</th>\n      <td>1</td>\n      <td>1</td>\n      <td>79366.98</td>\n      <td>46</td>\n      <td>1.069690e+05</td>\n      <td>1</td>\n      <td>742.166667</td>\n      <td>0</td>\n      <td>1</td>\n    </tr>\n    <tr>\n      <th>4</th>\n      <td>1</td>\n      <td>0</td>\n      <td>74405.34</td>\n      <td>22</td>\n      <td>4.547474e-13</td>\n      <td>2</td>\n      <td>609.166667</td>\n      <td>0</td>\n      <td>1</td>\n    </tr>\n  </tbody>\n</table>\n</div>"
     },
     "metadata": {}
    }
   ]
  },
  {
   "metadata": {},
   "cell_type": "markdown",
   "source": "Let's normalize the Data"
  },
  {
   "metadata": {},
   "cell_type": "code",
   "source": "X = preprocessing.StandardScaler().fit(X).transform(X)\nX",
   "execution_count": 9,
   "outputs": [
    {
     "output_type": "stream",
     "text": "/opt/conda/envs/Python36/lib/python3.6/site-packages/sklearn/preprocessing/data.py:645: DataConversionWarning: Data with input dtype uint8, int64, float64 were all converted to float64 by StandardScaler.\n  return self.partial_fit(X, y)\n/opt/conda/envs/Python36/lib/python3.6/site-packages/ipykernel/__main__.py:1: DataConversionWarning: Data with input dtype uint8, int64, float64 were all converted to float64 by StandardScaler.\n  if __name__ == '__main__':\n",
     "name": "stderr"
    },
    {
     "output_type": "execute_result",
     "execution_count": 9,
     "data": {
      "text/plain": "array([[-1.54818408, -1.03057628,  1.17508595, ..., -0.12986584,\n         1.09590728, -1.09590728],\n       [ 0.64591802, -1.03057628, -1.10446019, ...,  0.58240672,\n        -0.91248595,  0.91248595],\n       [-1.54818408,  0.9703309 ,  0.98482863, ..., -0.63140687,\n        -0.91248595,  0.91248595],\n       ...,\n       [ 0.64591802, -1.03057628,  1.63079455, ...,  0.12722663,\n         1.09590728, -1.09590728],\n       [-1.54818408, -1.03057628,  1.02172858, ...,  1.16824036,\n         1.09590728, -1.09590728],\n       [ 0.64591802, -1.03057628,  1.3424092 , ..., -1.41954278,\n        -0.91248595,  0.91248595]])"
     },
     "metadata": {}
    }
   ]
  },
  {
   "metadata": {},
   "cell_type": "markdown",
   "source": "Let's select the traning set and test set"
  },
  {
   "metadata": {},
   "cell_type": "code",
   "source": "X_train, X_test, y_train, y_test = train_test_split( X, y, test_size=0.3, random_state=4)\nprint ('Train set:', X_train.shape,  y_train.shape)\nprint ('Test set:', X_test.shape,  y_test.shape)",
   "execution_count": 10,
   "outputs": [
    {
     "output_type": "stream",
     "text": "Train set: (6997, 9) (6997,)\nTest set: (3000, 9) (3000,)\n",
     "name": "stdout"
    }
   ]
  },
  {
   "metadata": {},
   "cell_type": "markdown",
   "source": "Neural network"
  },
  {
   "metadata": {},
   "cell_type": "code",
   "source": "classifier = Sequential()\n#First Hidden Layer\nclassifier.add(Dense(4, activation='relu', kernel_initializer='random_normal', input_dim=9))\n#Second  Hidden Layer\nclassifier.add(Dense(4, activation='relu', kernel_initializer='random_normal'))\n#Output Layer\nclassifier.add(Dense(1, activation='sigmoid', kernel_initializer='random_normal'))",
   "execution_count": 11,
   "outputs": [
    {
     "output_type": "stream",
     "text": "WARNING:tensorflow:From /opt/conda/envs/Python36/lib/python3.6/site-packages/tensorflow/python/framework/op_def_library.py:263: colocate_with (from tensorflow.python.framework.ops) is deprecated and will be removed in a future version.\nInstructions for updating:\nColocations handled automatically by placer.\n",
     "name": "stdout"
    }
   ]
  },
  {
   "metadata": {},
   "cell_type": "code",
   "source": "#Compiling the neural network\nclassifier.compile(optimizer ='adam',loss='binary_crossentropy', metrics =['accuracy'])",
   "execution_count": 12,
   "outputs": []
  },
  {
   "metadata": {
    "scrolled": true
   },
   "cell_type": "code",
   "source": "#Fitting the data to the training dataset\nclassifier.fit(X_train,y_train, batch_size=10, epochs=50)",
   "execution_count": 13,
   "outputs": [
    {
     "output_type": "stream",
     "text": "WARNING:tensorflow:From /opt/conda/envs/Python36/lib/python3.6/site-packages/tensorflow/python/ops/math_ops.py:3066: to_int32 (from tensorflow.python.ops.math_ops) is deprecated and will be removed in a future version.\nInstructions for updating:\nUse tf.cast instead.\nEpoch 1/50\n6997/6997 [==============================] - 12s 2ms/step - loss: 0.5082 - acc: 0.7951\nEpoch 2/50\n6997/6997 [==============================] - 10s 1ms/step - loss: 0.4290 - acc: 0.7951\nEpoch 3/50\n6997/6997 [==============================] - 10s 1ms/step - loss: 0.4244 - acc: 0.7951\nEpoch 4/50\n6997/6997 [==============================] - 10s 1ms/step - loss: 0.4197 - acc: 0.7951\nEpoch 5/50\n6997/6997 [==============================] - 11s 2ms/step - loss: 0.4149 - acc: 0.8138: 2s \nEpoch 6/50\n6997/6997 [==============================] - 11s 2ms/step - loss: 0.4098 - acc: 0.8236\nEpoch 7/50\n6997/6997 [==============================] - 11s 2ms/step - loss: 0.4044 - acc: 0.8244\nEpoch 8/50\n6997/6997 [==============================] - 10s 1ms/step - loss: 0.3986 - acc: 0.8265\nEpoch 9/50\n6997/6997 [==============================] - 11s 2ms/step - loss: 0.3935 - acc: 0.8274\nEpoch 10/50\n6997/6997 [==============================] - 9s 1ms/step - loss: 0.3885 - acc: 0.8295\nEpoch 11/50\n6997/6997 [==============================] - 11s 2ms/step - loss: 0.3850 - acc: 0.8354\nEpoch 12/50\n6997/6997 [==============================] - 11s 2ms/step - loss: 0.3817 - acc: 0.8441\nEpoch 13/50\n6997/6997 [==============================] - 11s 2ms/step - loss: 0.3788 - acc: 0.8435\nEpoch 14/50\n6997/6997 [==============================] - 11s 2ms/step - loss: 0.3761 - acc: 0.8486\nEpoch 15/50\n6997/6997 [==============================] - 11s 2ms/step - loss: 0.3746 - acc: 0.8474\nEpoch 16/50\n6997/6997 [==============================] - 11s 2ms/step - loss: 0.3727 - acc: 0.8484\nEpoch 17/50\n6997/6997 [==============================] - 10s 1ms/step - loss: 0.3717 - acc: 0.8515\nEpoch 18/50\n6997/6997 [==============================] - 9s 1ms/step - loss: 0.3693 - acc: 0.8501\nEpoch 19/50\n6997/6997 [==============================] - 11s 2ms/step - loss: 0.3683 - acc: 0.8509\nEpoch 20/50\n6997/6997 [==============================] - 11s 2ms/step - loss: 0.3679 - acc: 0.8534\nEpoch 21/50\n6997/6997 [==============================] - 10s 1ms/step - loss: 0.3669 - acc: 0.8538\nEpoch 22/50\n6997/6997 [==============================] - 11s 2ms/step - loss: 0.3661 - acc: 0.8518\nEpoch 23/50\n6997/6997 [==============================] - 11s 2ms/step - loss: 0.3650 - acc: 0.8517\nEpoch 24/50\n6997/6997 [==============================] - 11s 2ms/step - loss: 0.3650 - acc: 0.8528\nEpoch 25/50\n6997/6997 [==============================] - 8s 1ms/step - loss: 0.3642 - acc: 0.8554\nEpoch 26/50\n6997/6997 [==============================] - 11s 2ms/step - loss: 0.3641 - acc: 0.8518\nEpoch 27/50\n6997/6997 [==============================] - 11s 2ms/step - loss: 0.3641 - acc: 0.8544\nEpoch 28/50\n6997/6997 [==============================] - 11s 2ms/step - loss: 0.3641 - acc: 0.8548\nEpoch 29/50\n6997/6997 [==============================] - 11s 2ms/step - loss: 0.3630 - acc: 0.8528\nEpoch 30/50\n6997/6997 [==============================] - 11s 2ms/step - loss: 0.3624 - acc: 0.8561\nEpoch 31/50\n6997/6997 [==============================] - 8s 1ms/step - loss: 0.3626 - acc: 0.8522\nEpoch 32/50\n6997/6997 [==============================] - 11s 2ms/step - loss: 0.3626 - acc: 0.8542\nEpoch 33/50\n6997/6997 [==============================] - 11s 2ms/step - loss: 0.3619 - acc: 0.8557\nEpoch 34/50\n6997/6997 [==============================] - 10s 1ms/step - loss: 0.3614 - acc: 0.8548\nEpoch 35/50\n6997/6997 [==============================] - 11s 2ms/step - loss: 0.3614 - acc: 0.8552\nEpoch 36/50\n6997/6997 [==============================] - 8s 1ms/step - loss: 0.3618 - acc: 0.8554\nEpoch 37/50\n6997/6997 [==============================] - 11s 2ms/step - loss: 0.3613 - acc: 0.8548\nEpoch 38/50\n6997/6997 [==============================] - 11s 2ms/step - loss: 0.3613 - acc: 0.8531\nEpoch 39/50\n6997/6997 [==============================] - 11s 2ms/step - loss: 0.3599 - acc: 0.8538\nEpoch 40/50\n6997/6997 [==============================] - 11s 2ms/step - loss: 0.3609 - acc: 0.8535\nEpoch 41/50\n6997/6997 [==============================] - 11s 2ms/step - loss: 0.3601 - acc: 0.8528\nEpoch 42/50\n6997/6997 [==============================] - 11s 2ms/step - loss: 0.3605 - acc: 0.8531\nEpoch 43/50\n6997/6997 [==============================] - 8s 1ms/step - loss: 0.3600 - acc: 0.8529\nEpoch 44/50\n6997/6997 [==============================] - 10s 1ms/step - loss: 0.3594 - acc: 0.8535\nEpoch 45/50\n6997/6997 [==============================] - 11s 2ms/step - loss: 0.3595 - acc: 0.8568\nEpoch 46/50\n6997/6997 [==============================] - 11s 2ms/step - loss: 0.3601 - acc: 0.8525\nEpoch 47/50\n6997/6997 [==============================] - 11s 2ms/step - loss: 0.3594 - acc: 0.8535\nEpoch 48/50\n6997/6997 [==============================] - 11s 2ms/step - loss: 0.3593 - acc: 0.8549\nEpoch 49/50\n6997/6997 [==============================] - 8s 1ms/step - loss: 0.3596 - acc: 0.8541\nEpoch 50/50\n6997/6997 [==============================] - 11s 2ms/step - loss: 0.3594 - acc: 0.8528\n",
     "name": "stdout"
    },
    {
     "output_type": "execute_result",
     "execution_count": 13,
     "data": {
      "text/plain": "<keras.callbacks.History at 0x7f4c83b26588>"
     },
     "metadata": {}
    }
   ]
  },
  {
   "metadata": {},
   "cell_type": "code",
   "source": "score = classifier.evaluate(X_test, y_test)",
   "execution_count": 14,
   "outputs": [
    {
     "output_type": "stream",
     "text": "3000/3000 [==============================] - 1s 188us/step\n",
     "name": "stdout"
    }
   ]
  },
  {
   "metadata": {},
   "cell_type": "code",
   "source": "print ('Accuracy:',score[1]) ",
   "execution_count": 15,
   "outputs": [
    {
     "output_type": "stream",
     "text": "Accuracy: 0.8599999998410542\n",
     "name": "stdout"
    }
   ]
  },
  {
   "metadata": {},
   "cell_type": "code",
   "source": "",
   "execution_count": null,
   "outputs": []
  }
 ],
 "metadata": {
  "kernelspec": {
   "name": "python3",
   "display_name": "Python 3.6",
   "language": "python"
  },
  "language_info": {
   "name": "python",
   "version": "3.6.9",
   "mimetype": "text/x-python",
   "codemirror_mode": {
    "name": "ipython",
    "version": 3
   },
   "pygments_lexer": "ipython3",
   "nbconvert_exporter": "python",
   "file_extension": ".py"
  }
 },
 "nbformat": 4,
 "nbformat_minor": 1
}